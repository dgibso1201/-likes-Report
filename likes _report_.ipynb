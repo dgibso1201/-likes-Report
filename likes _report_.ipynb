{
 "cells": [
  {
   "cell_type": "markdown",
   "metadata": {},
   "source": [
    "# likes report assignment\n",
    "\n",
    "<b>David Gibson</b>\n",
    "    \n",
    "I used my own instagram account data for the likes report assignment"
   ]
  },
  {
   "cell_type": "code",
   "execution_count": 96,
   "metadata": {},
   "outputs": [],
   "source": [
    "import json\n",
    "import pandas as pd"
   ]
  },
  {
   "cell_type": "code",
   "execution_count": null,
   "metadata": {},
   "outputs": [],
   "source": [
    "with open(r'/Users/davidgibson/Desktop/Data in Emerging Media and Technology/Instagram Data/likes.json') as cl: \n",
    "    likes = json.load(cl)\n",
    "#likes"
   ]
  },
  {
   "cell_type": "code",
   "execution_count": null,
   "metadata": {},
   "outputs": [],
   "source": [
    "#likes_df = pd.DataFrame(likes)"
   ]
  },
  {
   "cell_type": "code",
   "execution_count": 98,
   "metadata": {},
   "outputs": [
    {
     "data": {
      "text/plain": [
       "dict"
      ]
     },
     "execution_count": 98,
     "metadata": {},
     "output_type": "execute_result"
    }
   ],
   "source": [
    "type(likes) "
   ]
  },
  {
   "cell_type": "code",
   "execution_count": 99,
   "metadata": {},
   "outputs": [
    {
     "data": {
      "text/plain": [
       "dict_keys(['media_likes', 'comment_likes'])"
      ]
     },
     "execution_count": 99,
     "metadata": {},
     "output_type": "execute_result"
    }
   ],
   "source": [
    "likes.keys() "
   ]
  },
  {
   "cell_type": "code",
   "execution_count": 100,
   "metadata": {},
   "outputs": [
    {
     "data": {
      "text/plain": [
       "105031"
      ]
     },
     "execution_count": 100,
     "metadata": {},
     "output_type": "execute_result"
    }
   ],
   "source": [
    "len(likes['media_likes'])"
   ]
  },
  {
   "cell_type": "code",
   "execution_count": 101,
   "metadata": {},
   "outputs": [
    {
     "data": {
      "text/plain": [
       "2858"
      ]
     },
     "execution_count": 101,
     "metadata": {},
     "output_type": "execute_result"
    }
   ],
   "source": [
    "len(likes['comment_likes']) "
   ]
  },
  {
   "cell_type": "code",
   "execution_count": 102,
   "metadata": {},
   "outputs": [],
   "source": [
    "dlikes_df = 'media_likes'"
   ]
  },
  {
   "cell_type": "code",
   "execution_count": 103,
   "metadata": {},
   "outputs": [],
   "source": [
    "slikes_df = 'comment_likes'"
   ]
  },
  {
   "cell_type": "markdown",
   "metadata": {},
   "source": [
    "# Pandas"
   ]
  },
  {
   "cell_type": "code",
   "execution_count": 104,
   "metadata": {},
   "outputs": [
    {
     "data": {
      "text/html": [
       "<div>\n",
       "<style scoped>\n",
       "    .dataframe tbody tr th:only-of-type {\n",
       "        vertical-align: middle;\n",
       "    }\n",
       "\n",
       "    .dataframe tbody tr th {\n",
       "        vertical-align: top;\n",
       "    }\n",
       "\n",
       "    .dataframe thead th {\n",
       "        text-align: right;\n",
       "    }\n",
       "</style>\n",
       "<table border=\"1\" class=\"dataframe\">\n",
       "  <thead>\n",
       "    <tr style=\"text-align: right;\">\n",
       "      <th></th>\n",
       "      <th>timestamp</th>\n",
       "      <th>account</th>\n",
       "    </tr>\n",
       "  </thead>\n",
       "  <tbody>\n",
       "    <tr>\n",
       "      <th>0</th>\n",
       "      <td>2021-02-02T23:12:28+00:00</td>\n",
       "      <td>bryrussell</td>\n",
       "    </tr>\n",
       "    <tr>\n",
       "      <th>1</th>\n",
       "      <td>2021-02-02T23:10:03+00:00</td>\n",
       "      <td>sportscenter</td>\n",
       "    </tr>\n",
       "    <tr>\n",
       "      <th>2</th>\n",
       "      <td>2021-02-02T23:07:58+00:00</td>\n",
       "      <td>bleacherreport</td>\n",
       "    </tr>\n",
       "    <tr>\n",
       "      <th>3</th>\n",
       "      <td>2021-02-02T23:07:39+00:00</td>\n",
       "      <td>hoopdiamonds</td>\n",
       "    </tr>\n",
       "    <tr>\n",
       "      <th>4</th>\n",
       "      <td>2021-02-02T23:04:13+00:00</td>\n",
       "      <td>espncfb</td>\n",
       "    </tr>\n",
       "    <tr>\n",
       "      <th>...</th>\n",
       "      <td>...</td>\n",
       "      <td>...</td>\n",
       "    </tr>\n",
       "    <tr>\n",
       "      <th>105026</th>\n",
       "      <td>2012-07-27T00:20:04+00:00</td>\n",
       "      <td>justinbingham18</td>\n",
       "    </tr>\n",
       "    <tr>\n",
       "      <th>105027</th>\n",
       "      <td>2012-07-26T21:58:11+00:00</td>\n",
       "      <td>justinbingham18</td>\n",
       "    </tr>\n",
       "    <tr>\n",
       "      <th>105028</th>\n",
       "      <td>2012-07-26T21:57:36+00:00</td>\n",
       "      <td>justinbingham18</td>\n",
       "    </tr>\n",
       "    <tr>\n",
       "      <th>105029</th>\n",
       "      <td>2012-07-26T21:57:18+00:00</td>\n",
       "      <td>justinbingham18</td>\n",
       "    </tr>\n",
       "    <tr>\n",
       "      <th>105030</th>\n",
       "      <td>2012-07-15T23:43:48+00:00</td>\n",
       "      <td>justinbingham18</td>\n",
       "    </tr>\n",
       "  </tbody>\n",
       "</table>\n",
       "<p>105031 rows × 2 columns</p>\n",
       "</div>"
      ],
      "text/plain": [
       "                        timestamp          account\n",
       "0       2021-02-02T23:12:28+00:00       bryrussell\n",
       "1       2021-02-02T23:10:03+00:00     sportscenter\n",
       "2       2021-02-02T23:07:58+00:00   bleacherreport\n",
       "3       2021-02-02T23:07:39+00:00     hoopdiamonds\n",
       "4       2021-02-02T23:04:13+00:00          espncfb\n",
       "...                           ...              ...\n",
       "105026  2012-07-27T00:20:04+00:00  justinbingham18\n",
       "105027  2012-07-26T21:58:11+00:00  justinbingham18\n",
       "105028  2012-07-26T21:57:36+00:00  justinbingham18\n",
       "105029  2012-07-26T21:57:18+00:00  justinbingham18\n",
       "105030  2012-07-15T23:43:48+00:00  justinbingham18\n",
       "\n",
       "[105031 rows x 2 columns]"
      ]
     },
     "execution_count": 104,
     "metadata": {},
     "output_type": "execute_result"
    }
   ],
   "source": [
    "dlikes_df = pd.DataFrame(likes['media_likes'], columns = ['timestamp', 'account'])\n",
    "dlikes_df                                "
   ]
  },
  {
   "cell_type": "code",
   "execution_count": 105,
   "metadata": {},
   "outputs": [
    {
     "data": {
      "text/html": [
       "<div>\n",
       "<style scoped>\n",
       "    .dataframe tbody tr th:only-of-type {\n",
       "        vertical-align: middle;\n",
       "    }\n",
       "\n",
       "    .dataframe tbody tr th {\n",
       "        vertical-align: top;\n",
       "    }\n",
       "\n",
       "    .dataframe thead th {\n",
       "        text-align: right;\n",
       "    }\n",
       "</style>\n",
       "<table border=\"1\" class=\"dataframe\">\n",
       "  <thead>\n",
       "    <tr style=\"text-align: right;\">\n",
       "      <th></th>\n",
       "      <th>timestamp</th>\n",
       "      <th>account</th>\n",
       "    </tr>\n",
       "  </thead>\n",
       "  <tbody>\n",
       "    <tr>\n",
       "      <th>0</th>\n",
       "      <td>2021-02-01T09:07:17+00:00</td>\n",
       "      <td>stanleymucauro</td>\n",
       "    </tr>\n",
       "    <tr>\n",
       "      <th>1</th>\n",
       "      <td>2021-02-01T08:54:01+00:00</td>\n",
       "      <td>modsun</td>\n",
       "    </tr>\n",
       "    <tr>\n",
       "      <th>2</th>\n",
       "      <td>2021-02-01T08:51:43+00:00</td>\n",
       "      <td>richardajefferson</td>\n",
       "    </tr>\n",
       "    <tr>\n",
       "      <th>3</th>\n",
       "      <td>2021-02-01T08:51:42+00:00</td>\n",
       "      <td>washwizards</td>\n",
       "    </tr>\n",
       "    <tr>\n",
       "      <th>4</th>\n",
       "      <td>2021-02-01T08:47:45+00:00</td>\n",
       "      <td>xgames</td>\n",
       "    </tr>\n",
       "    <tr>\n",
       "      <th>...</th>\n",
       "      <td>...</td>\n",
       "      <td>...</td>\n",
       "    </tr>\n",
       "    <tr>\n",
       "      <th>2853</th>\n",
       "      <td>2017-01-27T03:54:05+00:00</td>\n",
       "      <td>davidgibson24</td>\n",
       "    </tr>\n",
       "    <tr>\n",
       "      <th>2854</th>\n",
       "      <td>2017-01-27T03:54:04+00:00</td>\n",
       "      <td>amiraharveyy</td>\n",
       "    </tr>\n",
       "    <tr>\n",
       "      <th>2855</th>\n",
       "      <td>2016-12-26T03:14:54+00:00</td>\n",
       "      <td>megdean27</td>\n",
       "    </tr>\n",
       "    <tr>\n",
       "      <th>2856</th>\n",
       "      <td>2016-12-25T04:32:40+00:00</td>\n",
       "      <td>benyanoska</td>\n",
       "    </tr>\n",
       "    <tr>\n",
       "      <th>2857</th>\n",
       "      <td>2016-12-25T04:32:13+00:00</td>\n",
       "      <td>mike_rennette</td>\n",
       "    </tr>\n",
       "  </tbody>\n",
       "</table>\n",
       "<p>2858 rows × 2 columns</p>\n",
       "</div>"
      ],
      "text/plain": [
       "                      timestamp            account\n",
       "0     2021-02-01T09:07:17+00:00     stanleymucauro\n",
       "1     2021-02-01T08:54:01+00:00             modsun\n",
       "2     2021-02-01T08:51:43+00:00  richardajefferson\n",
       "3     2021-02-01T08:51:42+00:00        washwizards\n",
       "4     2021-02-01T08:47:45+00:00             xgames\n",
       "...                         ...                ...\n",
       "2853  2017-01-27T03:54:05+00:00      davidgibson24\n",
       "2854  2017-01-27T03:54:04+00:00       amiraharveyy\n",
       "2855  2016-12-26T03:14:54+00:00          megdean27\n",
       "2856  2016-12-25T04:32:40+00:00         benyanoska\n",
       "2857  2016-12-25T04:32:13+00:00      mike_rennette\n",
       "\n",
       "[2858 rows x 2 columns]"
      ]
     },
     "execution_count": 105,
     "metadata": {},
     "output_type": "execute_result"
    }
   ],
   "source": [
    "slikes_df = pd.DataFrame(likes['comment_likes'], columns = ['timestamp', 'account'])\n",
    "slikes_df    "
   ]
  },
  {
   "cell_type": "code",
   "execution_count": 106,
   "metadata": {},
   "outputs": [
    {
     "data": {
      "text/html": [
       "<div>\n",
       "<style scoped>\n",
       "    .dataframe tbody tr th:only-of-type {\n",
       "        vertical-align: middle;\n",
       "    }\n",
       "\n",
       "    .dataframe tbody tr th {\n",
       "        vertical-align: top;\n",
       "    }\n",
       "\n",
       "    .dataframe thead th {\n",
       "        text-align: right;\n",
       "    }\n",
       "</style>\n",
       "<table border=\"1\" class=\"dataframe\">\n",
       "  <thead>\n",
       "    <tr style=\"text-align: right;\">\n",
       "      <th></th>\n",
       "      <th>timestamp</th>\n",
       "      <th>account</th>\n",
       "    </tr>\n",
       "  </thead>\n",
       "  <tbody>\n",
       "    <tr>\n",
       "      <th>0</th>\n",
       "      <td>2021-02-02T23:12:28+00:00</td>\n",
       "      <td>bryrussell</td>\n",
       "    </tr>\n",
       "    <tr>\n",
       "      <th>1</th>\n",
       "      <td>2021-02-02T23:10:03+00:00</td>\n",
       "      <td>sportscenter</td>\n",
       "    </tr>\n",
       "    <tr>\n",
       "      <th>2</th>\n",
       "      <td>2021-02-02T23:07:58+00:00</td>\n",
       "      <td>bleacherreport</td>\n",
       "    </tr>\n",
       "    <tr>\n",
       "      <th>3</th>\n",
       "      <td>2021-02-02T23:07:39+00:00</td>\n",
       "      <td>hoopdiamonds</td>\n",
       "    </tr>\n",
       "    <tr>\n",
       "      <th>4</th>\n",
       "      <td>2021-02-02T23:04:13+00:00</td>\n",
       "      <td>espncfb</td>\n",
       "    </tr>\n",
       "  </tbody>\n",
       "</table>\n",
       "</div>"
      ],
      "text/plain": [
       "                   timestamp         account\n",
       "0  2021-02-02T23:12:28+00:00      bryrussell\n",
       "1  2021-02-02T23:10:03+00:00    sportscenter\n",
       "2  2021-02-02T23:07:58+00:00  bleacherreport\n",
       "3  2021-02-02T23:07:39+00:00    hoopdiamonds\n",
       "4  2021-02-02T23:04:13+00:00         espncfb"
      ]
     },
     "execution_count": 106,
     "metadata": {},
     "output_type": "execute_result"
    }
   ],
   "source": [
    "dlikes_df.sort_values('timestamp' ,ascending=False).head()"
   ]
  },
  {
   "cell_type": "markdown",
   "metadata": {},
   "source": [
    "# Import Matplotlib and Seaborn for the three plots. "
   ]
  },
  {
   "cell_type": "code",
   "execution_count": 107,
   "metadata": {},
   "outputs": [],
   "source": [
    "from matplotlib import pyplot as plt"
   ]
  },
  {
   "cell_type": "code",
   "execution_count": null,
   "metadata": {},
   "outputs": [],
   "source": [
    "sortcount = dlikes_df.sort_values('timestamp' ,ascending=False)\n",
    "labels = sortcount['timestamp'].keys()\n",
    "vals = sortcount['timestamp']\n",
    "width = .75\n",
    "\n",
    "fig, ax = plt.subplots(figsize=(10, 10), dpi= 80, facecolor='w', edgecolor='k')\n",
    "ax.bar(labels, vals, width)\n",
    "ax.set_ylabel('Likes')\n",
    "plt.xticks(rotation=90, fontsize = 'small')\n",
    "plt.show()"
   ]
  },
  {
   "cell_type": "code",
   "execution_count": null,
   "metadata": {},
   "outputs": [],
   "source": [
    "sortcount = slikes_df.sort_values('timestamp' ,ascending=False)\n",
    "labels = sortcount['timestamp'].keys()\n",
    "vals = sortcount['timestamp']\n",
    "width = .75\n",
    "\n",
    "fig, ax = plt.subplots(figsize=(10, 10), dpi= 80, facecolor='w', edgecolor='k')\n",
    "ax.bar(labels, vals, width)\n",
    "ax.set_ylabel('Likes')\n",
    "plt.xticks(rotation=90, fontsize = 'small')\n",
    "plt.show()"
   ]
  },
  {
   "cell_type": "code",
   "execution_count": null,
   "metadata": {},
   "outputs": [],
   "source": [
    "fig1, ax1 = plt.subplots()\n",
    "ax1.pie(vals, labels = labels)\n",
    "ax1.axis('equal')\n",
    "plt.show()"
   ]
  },
  {
   "cell_type": "code",
   "execution_count": null,
   "metadata": {
    "scrolled": true
   },
   "outputs": [],
   "source": [
    "fig2, ax2 = plt.subplots()\n",
    "ax2.pie(vals, labels = labels)\n",
    "ax2.axis('equal')\n",
    "plt.show()"
   ]
  },
  {
   "cell_type": "code",
   "execution_count": null,
   "metadata": {},
   "outputs": [],
   "source": [
    "toplikes = count_dlikes['timestamp'] > 50\n",
    "countstop, countsbot = sortcount[toplikes], sortcount[-toplikes]\n",
    "other = countsbot.sum()\n",
    "\n",
    "piedat = countstop.append(pd.DataFrame(other['timestamp'], columns = ['timestamp'], index = ['other < 50']))\n",
    "piedat.head()\n",
    "<ipython-input-35-c044abe194bb>:2: UserWarning: Boolean Series key will be reindexed to match DataFrame index.\n",
    "  countstop, countsbot = sortcount[toplikes], sortcount[-toplikes]\n",
    "plt.show()"
   ]
  },
  {
   "cell_type": "code",
   "execution_count": null,
   "metadata": {},
   "outputs": [],
   "source": [
    "toplikes = count_slikes['timestamp'] > 50\n",
    "countstop, countsbot = sortcount[toplikes], sortcount[-toplikes]\n",
    "other = countsbot.sum()\n",
    "\n",
    "piedat = countstop.append(pd.DataFrame(other['timestamp'], columns = ['timestamp'], index = ['other < 50']))\n",
    "piedat.head()\n",
    "<ipython-input-35-c044abe194bb>:2: UserWarning: Boolean Series key will be reindexed to match DataFrame index.\n",
    "  countstop, countsbot = sortcount[toplikes], sortcount[-toplikes]\n",
    "plt.show()"
   ]
  },
  {
   "cell_type": "code",
   "execution_count": null,
   "metadata": {},
   "outputs": [],
   "source": [
    "labels = piedat['timestamp'].keys()\n",
    "\n",
    "\n",
    "fig3, ax3 = plt.subplots()\n",
    "ax3.pie(vals, labels = labels)\n",
    "ax3.axis('equal')\n",
    "plt.show()"
   ]
  },
  {
   "cell_type": "code",
   "execution_count": null,
   "metadata": {},
   "outputs": [],
   "source": [
    "import seaborn as sns"
   ]
  },
  {
   "cell_type": "code",
   "execution_count": null,
   "metadata": {},
   "outputs": [],
   "source": [
    "vals = piedat['timestamp']\n",
    "labels = piedat['timestamp'].keys()\n",
    "\n",
    "\n",
    "fig3, ax3 = plt.subplots()\n",
    "ax3.pie(vals, labels = labels)\n",
    "ax3.axis('equal')\n",
    "plt.show()"
   ]
  },
  {
   "cell_type": "code",
   "execution_count": null,
   "metadata": {},
   "outputs": [],
   "source": [
    "sns.distplot(count_dlikes)\n",
    "\n",
    "plt.show()"
   ]
  },
  {
   "cell_type": "code",
   "execution_count": null,
   "metadata": {},
   "outputs": [],
   "source": [
    "sns.distplot(count_slikes)\n",
    "           \n",
    "plt.show() "
   ]
  },
  {
   "cell_type": "markdown",
   "metadata": {},
   "source": [
    "# Conclusion\n",
    "Most of my likes are on sports accounts. Honestly, over 50% of them are sports accounts or atheletes. The rest of the likes are on posts from my friends. I have come to the conclusion that I like a lot of posts on instagram based off of the results from my charts and graphs. \n",
    "\n",
    "My charts and plots were showing up at first and not they are not showing up. I do not know if they are just taking a long time to load because all of my codes are running.   "
   ]
  },
  {
   "cell_type": "code",
   "execution_count": null,
   "metadata": {},
   "outputs": [],
   "source": []
  }
 ],
 "metadata": {
  "kernelspec": {
   "display_name": "Python 3",
   "language": "python",
   "name": "python3"
  }
 },
 "nbformat": 4,
 "nbformat_minor": 4
}
